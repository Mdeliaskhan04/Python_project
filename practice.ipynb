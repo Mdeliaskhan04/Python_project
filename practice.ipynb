{
 "cells": [
  {
   "cell_type": "markdown",
   "metadata": {},
   "source": [
    "##Python Variables"
   ]
  },
  {
   "cell_type": "code",
   "execution_count": 5,
   "metadata": {},
   "outputs": [
    {
     "name": "stdout",
     "output_type": "stream",
     "text": [
      "Md Elias khan\n",
      "1918004\n",
      "3.49\n",
      "<class 'str'>\n",
      "<class 'int'>\n",
      "<class 'float'>\n",
      "<class 'complex'>\n"
     ]
    }
   ],
   "source": [
    "name='Md Elias khan'\n",
    "roll=1918004\n",
    "cgpa=3.49\n",
    "z=2+3j\n",
    "print(name)\n",
    "print(roll)\n",
    "print(cgpa)\n",
    "print(type(name))\n",
    "print(type(roll))\n",
    "print(type(cgpa))\n",
    "print(type(z))"
   ]
  },
  {
   "cell_type": "markdown",
   "metadata": {},
   "source": [
    "#String Method"
   ]
  },
  {
   "cell_type": "code",
   "execution_count": 20,
   "metadata": {},
   "outputs": [
    {
     "name": "stdout",
     "output_type": "stream",
     "text": [
      "This is Md Elias khan. \n",
      "I am a student of Islamic University department of ICT.\n",
      "i live in Kushtia but i grew up Rajbari\n",
      "119\n",
      "i\n",
      "True\n",
      "is is Md Elia\n",
      "THIS IS MD ELIAS KHAN. \n",
      "I AM A STUDENT OF ISLAMIC UNIVERSITY DEPARTMENT OF ICT.\n",
      "I LIVE IN KUSHTIA BUT I GREW UP RAJBARI\n",
      "this is md elias khan. \n",
      "i am a student of islamic university department of ict.\n",
      "i live in kushtia but i grew up rajbari\n",
      "This is Md Elias khan. \n",
      "I am a student of Islamic University department of ICT.\n",
      "i live in Kushtia but i grew up Rajbari\n",
      "This is Mr Elias khan. \n",
      "I am a student of Islamic University department of ICT.\n",
      "i live in Kushtia but i grew up Rajbari\n",
      "['This is Md Elias khan. \\nI am a student of Islamic University department of ICT.\\ni live in Kushtia but i grew up Rajbari']\n"
     ]
    }
   ],
   "source": [
    "text='''This is Md Elias khan. \n",
    "I am a student of Islamic University department of ICT.\n",
    "i live in Kushtia but i grew up Rajbari'''\n",
    "print(text)\n",
    "#find the length of string\n",
    "print(len(text))\n",
    "#indexing\n",
    "print(text[5])\n",
    "#in method\n",
    "print(\"Elias\" in text)\n",
    "#Slicing\n",
    "print(text[2:15])\n",
    "#uppercase,lowercase,remove whitespace,\n",
    "print(text.upper())\n",
    "print(text.lower())\n",
    "print(text.strip())\n",
    "#Replace string,Split\n",
    "print(text.replace(\"Md\",\"Mr\"))\n",
    "print(text.split(\",\"))\n",
    "print(\"Hello World\")\n"
   ]
  }
 ],
 "metadata": {
  "kernelspec": {
   "display_name": "Python 3",
   "language": "python",
   "name": "python3"
  },
  "language_info": {
   "codemirror_mode": {
    "name": "ipython",
    "version": 3
   },
   "file_extension": ".py",
   "mimetype": "text/x-python",
   "name": "python",
   "nbconvert_exporter": "python",
   "pygments_lexer": "ipython3",
   "version": "3.11.3"
  }
 },
 "nbformat": 4,
 "nbformat_minor": 2
}
